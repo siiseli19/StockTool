{
  "nbformat": 4,
  "nbformat_minor": 0,
  "metadata": {
    "colab": {
      "provenance": [],
      "collapsed_sections": [
        "3imjphmI-Wg_",
        "FFdMEo6qA7Qz",
        "KRL4r2KlBA_b",
        "fN5S12S4DGP6",
        "am01OYsMtCfn",
        "5mLs_JfFD7f1"
      ],
      "toc_visible": true,
      "authorship_tag": "ABX9TyOyr7C6LA8mVYwVsABY7ouG",
      "include_colab_link": true
    },
    "kernelspec": {
      "name": "python3",
      "display_name": "Python 3"
    },
    "language_info": {
      "name": "python"
    }
  },
  "cells": [
    {
      "cell_type": "markdown",
      "metadata": {
        "id": "view-in-github",
        "colab_type": "text"
      },
      "source": [
        "<a href=\"https://colab.research.google.com/github/siiseli19/StockTool/blob/master/StockTool.ipynb\" target=\"_parent\"><img src=\"https://colab.research.google.com/assets/colab-badge.svg\" alt=\"Open In Colab\"/></a>"
      ]
    },
    {
      "cell_type": "markdown",
      "source": [
        "# Stock valuation tool project"
      ],
      "metadata": {
        "id": "HTmELMj6-1sv"
      }
    },
    {
      "cell_type": "markdown",
      "source": [
        "Aim of this project is to create a tool for valuing stocks for personal use.\n",
        "\n",
        "This tool can be used only for mature companies excluding financial institutions which have their own valuation methods."
      ],
      "metadata": {
        "id": "0BkrvA2l-_kJ"
      }
    },
    {
      "cell_type": "markdown",
      "source": [
        "# Setting up data pipeline"
      ],
      "metadata": {
        "id": "3imjphmI-Wg_"
      }
    },
    {
      "cell_type": "markdown",
      "source": [
        "Creating a generic data pipeline for data fetch."
      ],
      "metadata": {
        "id": "ZX2vmXIx_H75"
      }
    },
    {
      "cell_type": "code",
      "source": [
        "pip install edgartools"
      ],
      "metadata": {
        "id": "q86nEvugfA3D",
        "colab": {
          "base_uri": "https://localhost:8080/"
        },
        "outputId": "99c5aeaa-9698-4aca-8d4f-1eb14da9ab63"
      },
      "execution_count": 17,
      "outputs": [
        {
          "output_type": "stream",
          "name": "stdout",
          "text": [
            "Requirement already satisfied: edgartools in /usr/local/lib/python3.10/dist-packages (2.26.2)\n",
            "Requirement already satisfied: beautifulsoup4>=4.10.0 in /usr/local/lib/python3.10/dist-packages (from edgartools) (4.12.3)\n",
            "Requirement already satisfied: fastcore>=1.5.29 in /usr/local/lib/python3.10/dist-packages (from edgartools) (1.5.48)\n",
            "Requirement already satisfied: httpx>=0.25.0 in /usr/local/lib/python3.10/dist-packages (from edgartools) (0.27.0)\n",
            "Requirement already satisfied: humanize>=4.0.0 in /usr/local/lib/python3.10/dist-packages (from edgartools) (4.7.0)\n",
            "Requirement already satisfied: lxml>=4.4 in /usr/local/lib/python3.10/dist-packages (from edgartools) (4.9.4)\n",
            "Requirement already satisfied: orjson>=3.6.0 in /usr/local/lib/python3.10/dist-packages (from edgartools) (3.10.6)\n",
            "Requirement already satisfied: pandas>=2.0.0 in /usr/local/lib/python3.10/dist-packages (from edgartools) (2.0.3)\n",
            "Requirement already satisfied: pyarrow>=14.0.0 in /usr/local/lib/python3.10/dist-packages (from edgartools) (14.0.2)\n",
            "Requirement already satisfied: pydantic>=2.0.0 in /usr/local/lib/python3.10/dist-packages (from edgartools) (2.8.0)\n",
            "Requirement already satisfied: rank-bm25==0.2.1 in /usr/local/lib/python3.10/dist-packages (from edgartools) (0.2.1)\n",
            "Requirement already satisfied: rich>=13.0.0 in /usr/local/lib/python3.10/dist-packages (from edgartools) (13.7.1)\n",
            "Requirement already satisfied: stamina>=24.2.0 in /usr/local/lib/python3.10/dist-packages (from edgartools) (24.2.0)\n",
            "Requirement already satisfied: tabulate>=0.9.0 in /usr/local/lib/python3.10/dist-packages (from edgartools) (0.9.0)\n",
            "Requirement already satisfied: tenacity<8.4.0 in /usr/local/lib/python3.10/dist-packages (from edgartools) (8.3.0)\n",
            "Requirement already satisfied: textdistance>=4.5.0 in /usr/local/lib/python3.10/dist-packages (from edgartools) (4.6.2)\n",
            "Requirement already satisfied: tqdm>=4.62.0 in /usr/local/lib/python3.10/dist-packages (from edgartools) (4.66.4)\n",
            "Requirement already satisfied: numpy in /usr/local/lib/python3.10/dist-packages (from rank-bm25==0.2.1->edgartools) (1.25.2)\n",
            "Requirement already satisfied: soupsieve>1.2 in /usr/local/lib/python3.10/dist-packages (from beautifulsoup4>=4.10.0->edgartools) (2.5)\n",
            "Requirement already satisfied: packaging in /usr/local/lib/python3.10/dist-packages (from fastcore>=1.5.29->edgartools) (24.1)\n",
            "Requirement already satisfied: anyio in /usr/local/lib/python3.10/dist-packages (from httpx>=0.25.0->edgartools) (3.7.1)\n",
            "Requirement already satisfied: certifi in /usr/local/lib/python3.10/dist-packages (from httpx>=0.25.0->edgartools) (2024.6.2)\n",
            "Requirement already satisfied: httpcore==1.* in /usr/local/lib/python3.10/dist-packages (from httpx>=0.25.0->edgartools) (1.0.5)\n",
            "Requirement already satisfied: idna in /usr/local/lib/python3.10/dist-packages (from httpx>=0.25.0->edgartools) (3.7)\n",
            "Requirement already satisfied: sniffio in /usr/local/lib/python3.10/dist-packages (from httpx>=0.25.0->edgartools) (1.3.1)\n",
            "Requirement already satisfied: h11<0.15,>=0.13 in /usr/local/lib/python3.10/dist-packages (from httpcore==1.*->httpx>=0.25.0->edgartools) (0.14.0)\n",
            "Requirement already satisfied: python-dateutil>=2.8.2 in /usr/local/lib/python3.10/dist-packages (from pandas>=2.0.0->edgartools) (2.8.2)\n",
            "Requirement already satisfied: pytz>=2020.1 in /usr/local/lib/python3.10/dist-packages (from pandas>=2.0.0->edgartools) (2023.4)\n",
            "Requirement already satisfied: tzdata>=2022.1 in /usr/local/lib/python3.10/dist-packages (from pandas>=2.0.0->edgartools) (2024.1)\n",
            "Requirement already satisfied: annotated-types>=0.4.0 in /usr/local/lib/python3.10/dist-packages (from pydantic>=2.0.0->edgartools) (0.7.0)\n",
            "Requirement already satisfied: pydantic-core==2.20.0 in /usr/local/lib/python3.10/dist-packages (from pydantic>=2.0.0->edgartools) (2.20.0)\n",
            "Requirement already satisfied: typing-extensions>=4.6.1 in /usr/local/lib/python3.10/dist-packages (from pydantic>=2.0.0->edgartools) (4.12.2)\n",
            "Requirement already satisfied: markdown-it-py>=2.2.0 in /usr/local/lib/python3.10/dist-packages (from rich>=13.0.0->edgartools) (3.0.0)\n",
            "Requirement already satisfied: pygments<3.0.0,>=2.13.0 in /usr/local/lib/python3.10/dist-packages (from rich>=13.0.0->edgartools) (2.16.1)\n",
            "Requirement already satisfied: mdurl~=0.1 in /usr/local/lib/python3.10/dist-packages (from markdown-it-py>=2.2.0->rich>=13.0.0->edgartools) (0.1.2)\n",
            "Requirement already satisfied: six>=1.5 in /usr/local/lib/python3.10/dist-packages (from python-dateutil>=2.8.2->pandas>=2.0.0->edgartools) (1.16.0)\n",
            "Requirement already satisfied: exceptiongroup in /usr/local/lib/python3.10/dist-packages (from anyio->httpx>=0.25.0->edgartools) (1.2.1)\n"
          ]
        }
      ]
    },
    {
      "cell_type": "code",
      "source": [
        "#Set up a generic data pipeline & getting the 10-K form\n",
        "import requests\n",
        "import pandas as pd\n",
        "import edgar\n",
        "from edgar import *\n",
        "from edgar import set_identity\n",
        "set_identity(\"Sami Ojala sami.ojala97@gmail.com\")\n",
        "\n",
        "headers = {'User-Agent': \"sami.ojala97@gmail.com\"}\n",
        "\n",
        "def get_financials(ticker):\n",
        "\n",
        "  tenk = Company(ticker).get_filings(form=\"10-K\").latest(1).obj()\n",
        "  financials = tenk.financials\n",
        "\n",
        "  return financials\n",
        "\n"
      ],
      "metadata": {
        "id": "6AqxoWdnCt5B"
      },
      "execution_count": 18,
      "outputs": []
    },
    {
      "cell_type": "code",
      "source": [
        "#get balance sheet\n",
        "def get_balance_sheet(financials):\n",
        "  balance_sheet = financials.balance_sheet\n",
        "  return balance_sheet\n"
      ],
      "metadata": {
        "id": "PK3eCag9hqah"
      },
      "execution_count": 19,
      "outputs": []
    },
    {
      "cell_type": "code",
      "source": [
        "#get cashflows\n",
        "def get_cashflow_statement(financials):\n",
        "  cashflow_statement = financials.cash_flow_statement\n",
        "  return cashflow_statement\n"
      ],
      "metadata": {
        "id": "4XTOMGPuhw1Q"
      },
      "execution_count": 20,
      "outputs": []
    },
    {
      "cell_type": "code",
      "source": [
        "#get income statement\n",
        "def get_income_statement(financials):\n",
        "  income_statement = financials.income_statement\n",
        "  return income_statement\n"
      ],
      "metadata": {
        "id": "gdn_kFlSMXUs"
      },
      "execution_count": 21,
      "outputs": []
    },
    {
      "cell_type": "markdown",
      "source": [
        "# Company fundamentals & DCF inputs"
      ],
      "metadata": {
        "id": "JLQv_EHj-pp7"
      }
    },
    {
      "cell_type": "markdown",
      "source": [
        "Collecting all the needed fundamentals for DCF valuation.\n"
      ],
      "metadata": {
        "id": "x7UTBFnY_QLA"
      }
    },
    {
      "cell_type": "code",
      "source": [
        "#Get stock fundamentals\n",
        "\n",
        "#form the growth rate for cashflow forecasts\n",
        "#use damodarans approach, temporary % for now\n",
        "def get_growth_rate():\n",
        "  growth_rate = 1.05\n",
        "  return get_growth_rate\n",
        "\n",
        "\n",
        "#build EBIT\n",
        "#calculate future cashflows\n",
        "#returns CF array & growth factor\n",
        "#inputs : financial statements df:s\n",
        "\n",
        "#operating assets = cash + accounts receivable + inventory + prepaid expenses + fixed assets\n",
        "#accounts payable + accrued operating expenses\n",
        "# 2023 NWC - 2022 NWC\n",
        "#CapEx = Ending PP&E – Beginning PP&E + Depreciation\n",
        "\n",
        "#unlevered FCF = EBIT - Change in NWC - Capex\n",
        "def get_cashflows(income_statement_df, balance_sheet_df, cashflow_statement_df):\n",
        "\n",
        "  # Calculate EBIT for the year 2023\n",
        "  gross_profit_2023 = income_statement_df.loc['GrossProfit', '2023-09-30']\n",
        "  operating_expenses_2023 = income_statement_df.loc['OperatingExpenses', '2023-09-30']\n",
        "\n",
        "  # EBIT = Gross Profit - Operating Expenses\n",
        "  ebit_2023 = gross_profit_2023 - operating_expenses_2023\n",
        "\n",
        "  return ebit_2023\n",
        "\n",
        "\n",
        "\n",
        "#get terminal value\n",
        "#use last forecasted cashflow\n",
        "def get_terminal_value():\n",
        "\n",
        "    # perpetual growth method\n",
        "    exit_value = (future_cf5 * (1+perp_growth)) / (wacc-perp_growth)\n",
        "    pass"
      ],
      "metadata": {
        "id": "ftxRMNKnmQj5"
      },
      "execution_count": 22,
      "outputs": []
    },
    {
      "cell_type": "markdown",
      "source": [
        "# WACC"
      ],
      "metadata": {
        "id": "mSVw8hCl_XqW"
      }
    },
    {
      "cell_type": "markdown",
      "source": [
        "Building the weighted average cost of capita using CAPM. For cost of debt we will use Damodarans synthetic credit rating approach due to practical reasons."
      ],
      "metadata": {
        "id": "7DDQXoYw_g6R"
      }
    },
    {
      "cell_type": "markdown",
      "source": [
        "### Cost of equity"
      ],
      "metadata": {
        "id": "FFdMEo6qA7Qz"
      }
    },
    {
      "cell_type": "code",
      "source": [
        "#cost of equity using CAPM\n",
        "def calculate_cost_of_equity():\n",
        "    pass"
      ],
      "metadata": {
        "id": "2PnUr6TYCoAH"
      },
      "execution_count": 23,
      "outputs": []
    },
    {
      "cell_type": "markdown",
      "source": [
        "### Cost of debt"
      ],
      "metadata": {
        "id": "KRL4r2KlBA_b"
      }
    },
    {
      "cell_type": "code",
      "source": [
        "def interest_coverage_and_RF(ticker):\n",
        "    stock_ticker = ticker\n",
        "    key = os.environ.get('API_KEY')\n",
        "\n",
        "    # Interest coverage\n",
        "    IS = requests.get(\n",
        "        f'https://financialmodelingprep.com/api/v3/income-statement/{stock_ticker}?apikey={key}').json()  # income statement\n",
        "    EBIT = IS[0]['ebitda'] - IS[0]['depreciationAndAmortization']  # index 0 for the most recent year\n",
        "    interest_expense = IS[0]['interestExpense']\n",
        "    interest_coverage_ratio = EBIT / interest_expense\n",
        "\n",
        "    # RF\n",
        "    start = datetime.datetime(2022, 1, 1)\n",
        "\n",
        "    end = datetime.datetime.today().strftime('%Y-%m-%d')\n",
        "    # end = datetime.datetime(2020, 7, 10)\n",
        "\n",
        "    Treasury = web.DataReader(['TB1YR'], 'fred', start, end)\n",
        "    RF = float(Treasury.iloc[-1])\n",
        "    RF = RF / 100\n",
        "    return [RF, interest_coverage_ratio]\n",
        "\n",
        "\n",
        "\n",
        "#cost of debt for using Damodarans synthetic credit rating\n",
        "def calculate_cost_of_debt(RF, interest_coverage_ratio):\n",
        "    if interest_coverage_ratio > 8.5:\n",
        "        # Rating is AAA\n",
        "        credit_spread = 0.0063\n",
        "    if (interest_coverage_ratio > 6.5) & (interest_coverage_ratio <= 8.5):\n",
        "        # Rating is AA\n",
        "        credit_spread = 0.0078\n",
        "    if (interest_coverage_ratio > 5.5) & (interest_coverage_ratio <= 6.5):\n",
        "        # Rating is A+\n",
        "        credit_spread = 0.0098\n",
        "    if (interest_coverage_ratio > 4.25) & (interest_coverage_ratio <= 5.49):\n",
        "        # Rating is A\n",
        "        credit_spread = 0.0108\n",
        "    if (interest_coverage_ratio > 3) & (interest_coverage_ratio <= 4.25):\n",
        "        # Rating is A-\n",
        "        credit_spread = 0.0122\n",
        "    if (interest_coverage_ratio > 2.5) & (interest_coverage_ratio <= 3):\n",
        "        # Rating is BBB\n",
        "        credit_spread = 0.0156\n",
        "    if (interest_coverage_ratio > 2.25) & (interest_coverage_ratio <= 2.5):\n",
        "        # Rating is BB+\n",
        "        credit_spread = 0.02\n",
        "    if (interest_coverage_ratio > 2) & (interest_coverage_ratio <= 2.25):\n",
        "        # Rating is BB\n",
        "        credit_spread = 0.0240\n",
        "    if (interest_coverage_ratio > 1.75) & (interest_coverage_ratio <= 2):\n",
        "        # Rating is B+\n",
        "        credit_spread = 0.0351\n",
        "    if (interest_coverage_ratio > 1.5) & (interest_coverage_ratio <= 1.75):\n",
        "        # Rating is B\n",
        "        credit_spread = 0.0421\n",
        "    if (interest_coverage_ratio > 1.25) & (interest_coverage_ratio <= 1.5):\n",
        "        # Rating is B-\n",
        "        credit_spread = 0.0515\n",
        "    if (interest_coverage_ratio > 0.8) & (interest_coverage_ratio <= 1.25):\n",
        "        # Rating is CCC\n",
        "        credit_spread = 0.0820\n",
        "    if (interest_coverage_ratio > 0.65) & (interest_coverage_ratio <= 0.8):\n",
        "        # Rating is CC\n",
        "        credit_spread = 0.0864\n",
        "    if (interest_coverage_ratio > 0.2) & (interest_coverage_ratio <= 0.65):\n",
        "        # Rating is C\n",
        "        credit_spread = 0.1134\n",
        "    if interest_coverage_ratio <= 0.2:\n",
        "        # Rating is D\n",
        "        credit_spread = 0.1512\n",
        "\n",
        "    cost_of_debt = RF + credit_spread\n",
        "    return cost_of_debt\n"
      ],
      "metadata": {
        "id": "LXM-eAg8Cotb"
      },
      "execution_count": 24,
      "outputs": []
    },
    {
      "cell_type": "markdown",
      "source": [
        "### WACC"
      ],
      "metadata": {
        "id": "fN5S12S4DGP6"
      }
    },
    {
      "cell_type": "code",
      "source": [
        "#calculate WACC using cost of equity & debt\n",
        "#debt/equity ratio\n",
        "def calculate_wacc():\n",
        "    pass"
      ],
      "metadata": {
        "id": "cc-Y8dgnCXue"
      },
      "execution_count": 25,
      "outputs": []
    },
    {
      "cell_type": "markdown",
      "source": [
        "# DCF\n"
      ],
      "metadata": {
        "id": "J6PtdiAuAThU"
      }
    },
    {
      "cell_type": "markdown",
      "source": [
        "Creating the DCF model. Forecasting future cashflows and discounting them back using WACC.\n"
      ],
      "metadata": {
        "id": "BWiUBp69AZHH"
      }
    },
    {
      "cell_type": "code",
      "source": [
        "#cashflows come from EBIT\n",
        "\n",
        "def forecast_cashflows_and_terminal_value(wacc, perp_growth_rate, forecasted_cashflows):\n",
        "\n",
        "    # perpetual growth method\n",
        "    exit_value = (last_future_cf5 * (1+perp_growth)) / (wacc-perp_growth)\n",
        "\n",
        "\n",
        "\n",
        "\n",
        "    forecasted_cashflows_and_exit_value = []  # return\n",
        "\n",
        "    #round\n",
        "    forecasted_cashflows_and_exit_value.append(future_cf1)\n",
        "    forecasted_cashflows_and_exit_value.append(future_cf2)\n",
        "    forecasted_cashflows_and_exit_value.append(future_cf3)\n",
        "    forecasted_cashflows_and_exit_value.append(future_cf4)\n",
        "    forecasted_cashflows_and_exit_value.append(future_cf5)\n",
        "    forecasted_cashflows_and_exit_value.append(exit_value)\n",
        "\n",
        "\n",
        "    # return cashflows + terminal value\n",
        "    return forecasted_cashflows_and_exit_value"
      ],
      "metadata": {
        "id": "IMX_UtQllpr2"
      },
      "execution_count": 26,
      "outputs": []
    },
    {
      "cell_type": "code",
      "source": [
        "def DCF():\n",
        "    pass\n",
        "\n",
        "    #Forecasts\n",
        "\n",
        "    #Terminal value\n",
        "\n",
        "    #Enterprise value = Sum of PVs\n",
        "\n",
        "    #Equity value = + cash & equivalents, -debt\n",
        "\n",
        "    #Intrinsic value of stock"
      ],
      "metadata": {
        "id": "tHwTMxDsl0kN"
      },
      "execution_count": 27,
      "outputs": []
    },
    {
      "cell_type": "markdown",
      "source": [
        "# Trends"
      ],
      "metadata": {
        "id": "am01OYsMtCfn"
      }
    },
    {
      "cell_type": "markdown",
      "source": [
        "Identify trends and plot them"
      ],
      "metadata": {
        "id": "dIWnITFmtHcR"
      }
    },
    {
      "cell_type": "code",
      "source": [
        "def doodoo():\n",
        "  pass"
      ],
      "metadata": {
        "id": "9fPVv9zGtGQ9"
      },
      "execution_count": 28,
      "outputs": []
    },
    {
      "cell_type": "markdown",
      "source": [
        "# Run the program\n"
      ],
      "metadata": {
        "id": "uf9Wn3wUDF56"
      }
    },
    {
      "cell_type": "markdown",
      "source": [
        "Utilize above defined functions and create a DCF model for a specific stock"
      ],
      "metadata": {
        "id": "81Jvq0uSDNrh"
      }
    },
    {
      "cell_type": "code",
      "source": [
        "#driver function\n",
        "import pandas as pd\n",
        "\n",
        "\n",
        "ticker = 'AAPL'\n",
        "\n",
        "financials = get_financials(ticker)\n",
        "\n",
        "balance_sheet = get_balance_sheet(financials)\n",
        "balance_sheet_df = balance_sheet.to_dataframe()\n",
        "\n",
        "income_statement = get_income_statement(financials)\n",
        "income_statement_df = income_statement.to_dataframe()\n",
        "\n",
        "cashflow_statement = get_cashflow_statement(financials)\n",
        "cashflow_statement_df = cashflow_statement.to_dataframe()\n",
        "\n",
        "\n",
        "\n"
      ],
      "metadata": {
        "id": "uz9Dote-D1tf"
      },
      "execution_count": 29,
      "outputs": []
    },
    {
      "cell_type": "code",
      "source": [
        "#print(balance_sheet_df)"
      ],
      "metadata": {
        "id": "obd3Z_qzPi_o"
      },
      "execution_count": 30,
      "outputs": []
    },
    {
      "cell_type": "code",
      "source": [
        "print(income_statement)"
      ],
      "metadata": {
        "id": "6DFGW7ZZPYdQ",
        "colab": {
          "base_uri": "https://localhost:8080/",
          "height": 642
        },
        "outputId": "93bef014-b5fc-4061-de42-2c85c2ec4300"
      },
      "execution_count": 31,
      "outputs": [
        {
          "output_type": "display_data",
          "data": {
            "text/plain": [],
            "text/html": [
              "<pre style=\"white-space:pre;overflow-x:auto;line-height:normal;font-family:Menlo,'DejaVu Sans Mono',consolas,'Courier New',monospace\"></pre>\n"
            ]
          },
          "metadata": {}
        },
        {
          "output_type": "stream",
          "name": "stdout",
          "text": [
            "                     \u001b[1;38;5;32mApple Inc.\u001b[0m \u001b[1;38;5;71mConsolidated Statement of Operations\u001b[0m \u001b[38;5;196mFY 2023\u001b[0m                     \n",
            "                                                                                                 \n",
            " \u001b[1m \u001b[0m\u001b[1m                                    \u001b[0m\u001b[1m \u001b[0m \u001b[1m \u001b[0m\u001b[1m      2023-09-30\u001b[0m\u001b[1m \u001b[0m \u001b[1m \u001b[0m\u001b[1m      2022-09-24\u001b[0m\u001b[1m \u001b[0m \u001b[1m \u001b[0m\u001b[1m      2021-09-25\u001b[0m\u001b[1m \u001b[0m \n",
            " ━━━━━━━━━━━━━━━━━━━━━━━━━━━━━━━━━━━━━━━━━━━━━━━━━━━━━━━━━━━━━━━━━━━━━━━━━━━━━━━━━━━━━━━━━━━━━━━ \n",
            "  \u001b[1;38;5;71mSALES:                              \u001b[0m                                                           \n",
            "  \u001b[1;38;5;32mTotal Net Sales                     \u001b[0m    383,285,000,000    394,328,000,000    365,817,000,000  \n",
            "                                                                                                 \n",
            "  \u001b[1;38;5;71mCOST OF SALES:                      \u001b[0m                                                           \n",
            "  \u001b[1;38;5;32mCost Goods and Services Sold        \u001b[0m    214,137,000,000    223,546,000,000    212,981,000,000  \n",
            "                                                                                                 \n",
            "  \u001b[1;38;5;32mGross Profit                        \u001b[0m    169,148,000,000    170,782,000,000    152,836,000,000  \n",
            "                                                                                                 \n",
            "  \u001b[1;38;5;71mOPERATING EXPENSES:                 \u001b[0m                                                           \n",
            "    Research & Development Expenses        29,915,000,000     26,251,000,000     21,914,000,000  \n",
            "    Marketing Expense                                                                            \n",
            "    Selling, General & Admin Expenses      24,932,000,000     25,094,000,000     21,973,000,000  \n",
            "  \u001b[1;38;5;32mTotal Operating Expenses            \u001b[0m     54,847,000,000     51,345,000,000     43,887,000,000  \n",
            "                                                                                                 \n",
            "  \u001b[1;38;5;32mOperating Income                    \u001b[0m    114,301,000,000    119,437,000,000    108,949,000,000  \n",
            "                                                                                                 \n",
            "  \u001b[1;38;5;71mOTHER INCOME/EXPENSE:               \u001b[0m                                                           \n",
            "    Interest Expense                        3,933,000,000      2,931,000,000      2,645,000,000  \n",
            "    Nonoperating Income                      -565,000,000       -334,000,000        258,000,000  \n",
            "  \u001b[1;38;5;32mIncome Before Taxes                 \u001b[0m    113,736,000,000    119,103,000,000    109,207,000,000  \n",
            "                                                                                                 \n",
            "  Income Tax Expense                       16,741,000,000     19,300,000,000     14,527,000,000  \n",
            "  \u001b[1;38;5;32mNet Income                          \u001b[0m     96,995,000,000     99,803,000,000     94,680,000,000  \n",
            "                                                                                                 \n",
            "  \u001b[1;38;5;71mEARNINGS PER SHARE:                 \u001b[0m                                                           \n",
            "    Basic                                            6.16               6.15               5.67  \n",
            "    Diluted                                          6.13               6.11               5.61  \n",
            "  \u001b[1;38;5;71mWEIGHTED AVERAGE SHARES OUTSTANDING:\u001b[0m                                                           \n",
            "    Basic                                  15,744,231,000     16,215,963,000     16,701,272,000  \n",
            "    Diluted                                15,812,547,000     16,325,819,000     16,864,919,000  \n",
            "                                                                                                 \n",
            "\n"
          ]
        }
      ]
    },
    {
      "cell_type": "code",
      "source": [
        "print(cashflow_statement)"
      ],
      "metadata": {
        "colab": {
          "base_uri": "https://localhost:8080/",
          "height": 572
        },
        "id": "0qvO0W4n7KA8",
        "outputId": "8ee8693c-5c32-486c-87b9-9f32a51eb74e"
      },
      "execution_count": 32,
      "outputs": [
        {
          "output_type": "display_data",
          "data": {
            "text/plain": [],
            "text/html": [
              "<pre style=\"white-space:pre;overflow-x:auto;line-height:normal;font-family:Menlo,'DejaVu Sans Mono',consolas,'Courier New',monospace\"></pre>\n"
            ]
          },
          "metadata": {}
        },
        {
          "output_type": "stream",
          "name": "stdout",
          "text": [
            "                                     \u001b[1;38;5;32mApple Inc.\u001b[0m \u001b[1;38;5;71mCashflow Statement\u001b[0m \u001b[38;5;196mFY 2023\u001b[0m                                      \n",
            "                                                                                                                \n",
            " \u001b[1m \u001b[0m\u001b[1m                                                   \u001b[0m\u001b[1m \u001b[0m \u001b[1m \u001b[0m\u001b[1m      2023-09-30\u001b[0m\u001b[1m \u001b[0m \u001b[1m \u001b[0m\u001b[1m      2022-09-24\u001b[0m\u001b[1m \u001b[0m \u001b[1m \u001b[0m\u001b[1m      2021-09-25\u001b[0m\u001b[1m \u001b[0m \n",
            " ━━━━━━━━━━━━━━━━━━━━━━━━━━━━━━━━━━━━━━━━━━━━━━━━━━━━━━━━━━━━━━━━━━━━━━━━━━━━━━━━━━━━━━━━━━━━━━━━━━━━━━━━━━━━━━ \n",
            "  \u001b[1;38;5;71mOPERATING ACTIVITIES:                              \u001b[0m                                                           \n",
            "    Net Income                                            96,995,000,000     99,803,000,000     94,680,000,000  \n",
            "    Depreciation and Amortization                         11,519,000,000     11,104,000,000     11,284,000,000  \n",
            "    Stock-based Compensation                              10,833,000,000      9,038,000,000      7,906,000,000  \n",
            "    Other Noncash Income/Expense                           2,227,000,000     -1,006,000,000      4,921,000,000  \n",
            "    Changes in Accounts Payable                           -1,889,000,000      9,448,000,000     12,326,000,000  \n",
            "    Changes in Inventories                                 1,618,000,000     -1,484,000,000      2,642,000,000  \n",
            "  \u001b[1;38;5;32m  Net Cash From Operating Activities               \u001b[0m    110,543,000,000    122,151,000,000    104,038,000,000  \n",
            "                                                                                                                \n",
            "  \u001b[1;38;5;71mINVESTING ACTIVITIES:                              \u001b[0m                                                           \n",
            "    Purchases of Marketable Securities                    29,513,000,000     76,923,000,000    109,558,000,000  \n",
            "    Proceeds from Maturities of Marketable Securities     39,686,000,000     29,917,000,000     59,023,000,000  \n",
            "    Proceeds from Sale of Marketable Securities            5,828,000,000     37,446,000,000     47,460,000,000  \n",
            "    Purchases of Property, Plant and Equipment            10,959,000,000     10,708,000,000     11,085,000,000  \n",
            "    Other Investing Activities                             1,337,000,000      2,086,000,000        385,000,000  \n",
            "  \u001b[1;38;5;32m  Net Cash From Investing Activities               \u001b[0m      3,705,000,000    -22,354,000,000    -14,545,000,000  \n",
            "                                                                                                                \n",
            "  \u001b[1;38;5;71mFINANCING ACTIVITIES:                              \u001b[0m                                                           \n",
            "    Payments of Tax for Share-based Compensation           5,431,000,000      6,223,000,000      6,556,000,000  \n",
            "    Dividends Paid                                        15,025,000,000     14,841,000,000     14,467,000,000  \n",
            "    Repurchases of Common Stock                           77,550,000,000     89,402,000,000     85,971,000,000  \n",
            "    Repayments of Long-term Debt                          11,151,000,000      9,543,000,000      8,750,000,000  \n",
            "  \u001b[1;38;5;32m  Net Cash From Financing Activities               \u001b[0m   -108,488,000,000   -110,749,000,000    -93,353,000,000  \n",
            "                                                                                                                \n",
            "  Changes in Cash and Cash equivalents                     5,760,000,000    -10,952,000,000     -3,860,000,000  \n",
            "  \u001b[1;38;5;32mCash, cash equivalents and restricted cash         \u001b[0m     30,737,000,000     24,977,000,000                     \n",
            "                                                                                                                \n",
            "\n"
          ]
        }
      ]
    },
    {
      "cell_type": "code",
      "source": [
        "print(balance_sheet)"
      ],
      "metadata": {
        "colab": {
          "base_uri": "https://localhost:8080/",
          "height": 850
        },
        "id": "SQRF8YKi7K0Z",
        "outputId": "b5e6e206-4d4c-43d8-ca3d-38ba72ccb68b"
      },
      "execution_count": 33,
      "outputs": [
        {
          "output_type": "display_data",
          "data": {
            "text/plain": [],
            "text/html": [
              "<pre style=\"white-space:pre;overflow-x:auto;line-height:normal;font-family:Menlo,'DejaVu Sans Mono',consolas,'Courier New',monospace\"></pre>\n"
            ]
          },
          "metadata": {}
        },
        {
          "output_type": "stream",
          "name": "stdout",
          "text": [
            "                         \u001b[1;38;5;32mApple Inc.\u001b[0m \u001b[1;38;5;71mBalance Sheet\u001b[0m \u001b[38;5;196mFY 2023\u001b[0m                          \n",
            "                                                                                   \n",
            " \u001b[1m \u001b[0m\u001b[1m                                         \u001b[0m\u001b[1m \u001b[0m \u001b[1m \u001b[0m\u001b[1m      2023-09-30\u001b[0m\u001b[1m \u001b[0m \u001b[1m \u001b[0m\u001b[1m      2022-09-24\u001b[0m\u001b[1m \u001b[0m \n",
            " ━━━━━━━━━━━━━━━━━━━━━━━━━━━━━━━━━━━━━━━━━━━━━━━━━━━━━━━━━━━━━━━━━━━━━━━━━━━━━━━━━ \n",
            "  \u001b[1;38;5;71mASSETS:                                  \u001b[0m                                        \n",
            "  \u001b[1;38;5;71mCURRENT ASSETS:                          \u001b[0m                                        \n",
            "    Cash and Cash Equivalents                   29,965,000,000     23,646,000,000  \n",
            "    Marketable Securities                       31,590,000,000     24,658,000,000  \n",
            "    Accounts Receivable, net                    29,508,000,000     28,184,000,000  \n",
            "    Vendor non-trade Receivables                31,477,000,000     32,748,000,000  \n",
            "    Inventories                                  6,331,000,000      4,946,000,000  \n",
            "    Other Current Assets                        14,695,000,000     21,223,000,000  \n",
            "  \u001b[1;38;5;32m  Total Current Assets                   \u001b[0m    143,566,000,000    135,405,000,000  \n",
            "                                                                                   \n",
            "  \u001b[1;38;5;71mNONCURRENT ASSETS:                       \u001b[0m                                        \n",
            "    Property and Equipment, net                 43,715,000,000     42,117,000,000  \n",
            "    Marketable Securities                      100,544,000,000    120,805,000,000  \n",
            "    Other Long-Term Assets                      64,758,000,000     54,428,000,000  \n",
            "  \u001b[1;38;5;32m  Total Noncurrent Assets                \u001b[0m    209,017,000,000    217,350,000,000  \n",
            "                                                                                   \n",
            "  \u001b[1;38;5;32mTotal Assets                             \u001b[0m    352,583,000,000    352,755,000,000  \n",
            "                                                                                   \n",
            "  \u001b[1;38;5;71mLIABILITIES AND STOCKHOLDERS' EQUITY:    \u001b[0m                                        \n",
            "  \u001b[1;38;5;71mCURRENT LIABILITIES:                     \u001b[0m                                        \n",
            "    Accounts Payable                            62,611,000,000     64,115,000,000  \n",
            "    Other Current Liabilities                   58,829,000,000     60,845,000,000  \n",
            "    Deferred Revenue                             8,061,000,000      7,912,000,000  \n",
            "    Commercial Paper                             5,985,000,000      9,982,000,000  \n",
            "    Term Debt                                    9,822,000,000     11,128,000,000  \n",
            "  \u001b[1;38;5;32m  Total Current Liabilities              \u001b[0m    145,308,000,000    153,982,000,000  \n",
            "                                                                                   \n",
            "  \u001b[1;38;5;71mNONCURRENT LIABILITIES:                  \u001b[0m                                        \n",
            "    Non-current Long Term Debt                  95,281,000,000     98,959,000,000  \n",
            "    Other Long-Term Liabilities                 49,848,000,000     49,142,000,000  \n",
            "  \u001b[1;38;5;32m  Total Noncurrent Liabilities           \u001b[0m    145,129,000,000    148,101,000,000  \n",
            "                                                                                   \n",
            "  \u001b[1;38;5;32mTotal Liabilities                        \u001b[0m    290,437,000,000    302,083,000,000  \n",
            "                                                                                   \n",
            "  \u001b[1;38;5;71mSTOCKHOLDERS' EQUITY:                    \u001b[0m                                        \n",
            "    Common Stock, shares issued                 15,550,061,000     15,943,425,000  \n",
            "    Common Stock and paid-in Capital            73,812,000,000     64,849,000,000  \n",
            "    Retained Earnings                             -214,000,000     -3,068,000,000  \n",
            "    Accumulated Other Comprehensive Income     -11,452,000,000    -11,109,000,000  \n",
            "  \u001b[1;38;5;32m  Total Stockholders' Equity             \u001b[0m     62,146,000,000     50,672,000,000  \n",
            "                                                                                   \n",
            "  \u001b[1;38;5;32mTotal Liabilities and Stockholders Equity\u001b[0m    352,583,000,000    352,755,000,000  \n",
            "                                                                                   \n",
            "\n"
          ]
        }
      ]
    },
    {
      "cell_type": "code",
      "source": [
        "#print(cashflow_statement_df)"
      ],
      "metadata": {
        "id": "gXyeo2uyPaim"
      },
      "execution_count": 34,
      "outputs": []
    },
    {
      "cell_type": "code",
      "source": [
        "# Example usage\n",
        "print(income_statement_df.loc['RevenueFromContractWithCustomerExcludingAssessedTax', '2023-09-30'])\n",
        "gross_profit_2022 = income_statement_df.loc['GrossProfit', '2022-09-24']\n",
        "print(gross_profit_2022)"
      ],
      "metadata": {
        "colab": {
          "base_uri": "https://localhost:8080/"
        },
        "id": "scqF8MAU2in4",
        "outputId": "5b4ff896-d7af-4c41-ee12-d6bc1b66a4fc"
      },
      "execution_count": 35,
      "outputs": [
        {
          "output_type": "stream",
          "name": "stdout",
          "text": [
            "383285000000\n",
            "170782000000\n"
          ]
        }
      ]
    },
    {
      "cell_type": "markdown",
      "source": [
        "# Plan / Guidelines"
      ],
      "metadata": {
        "id": "5mLs_JfFD7f1"
      }
    },
    {
      "cell_type": "markdown",
      "source": [
        "PRELIMINARY PLAN\n",
        "\n",
        "1. Scrape needed data and make a generic pipeline\n",
        "1.1 Store data into pandas dataframe for quick use\n",
        "2. Build a DCF model\n",
        "3. Sensitivity analysis with different parameters\n",
        "4. Make an Excel file of the output for comparing\n",
        "4.1 Make plots to spot trends\n",
        "  - debt / equity\n",
        "  - earnings\n",
        "  - FCF\n",
        "  - Margins\n",
        "  - ROIC\n",
        "5. Make a screener & apply suitable algorithms to sort data\n",
        "6. Run above pipeline in Google cloud\n",
        "7. Send email for potential buy opportunity\n",
        "8. Transformer for 10-K summaries\n",
        "\n",
        "\n",
        "'''\n",
        "Having the CIK number of a company of interest,\n",
        "one is now able to query the financial data reported by that company,\n",
        "using the companyconcept path of the SEC API [8] and the following HTTP scheme:\n",
        "https://data.sec.gov/api/xbrl/companyconcept/[CIK]/us-gaap/[Tag].json, where:\n",
        "\n",
        "CIK is the CIK number of the company,\n",
        "Tag is a tag from the US-GAAP taxonomy.\n",
        "The US-GAAP taxonomy is a collection of eXtensible Business Reporting (XBRL) tags used by\n",
        "companies for labeling financial data and reporting it to the SEC."
      ],
      "metadata": {
        "id": "XxWGEy_ZD_iV"
      }
    },
    {
      "cell_type": "markdown",
      "source": [
        "filings = get_filings(form=\"10-K\")\n",
        "\n",
        "filings = get_filings(year=range(2010, 2020)\n"
      ],
      "metadata": {
        "id": "4smnpdyJMiz3"
      }
    }
  ]
}